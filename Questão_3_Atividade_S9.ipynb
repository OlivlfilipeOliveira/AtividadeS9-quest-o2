{
  "nbformat": 4,
  "nbformat_minor": 0,
  "metadata": {
    "colab": {
      "name": "Questão 3 Atividade S9.ipynb",
      "provenance": [],
      "collapsed_sections": [],
      "authorship_tag": "ABX9TyMOSHWXhYp4XTjitC4ffuxk",
      "include_colab_link": true
    },
    "kernelspec": {
      "name": "python3",
      "display_name": "Python 3"
    },
    "language_info": {
      "name": "python"
    }
  },
  "cells": [
    {
      "cell_type": "markdown",
      "metadata": {
        "id": "view-in-github",
        "colab_type": "text"
      },
      "source": [
        "<a href=\"https://colab.research.google.com/github/OlivlfilipeOliveira/AtividadeS9-quest-o2/blob/main/Quest%C3%A3o_3_Atividade_S9.ipynb\" target=\"_parent\"><img src=\"https://colab.research.google.com/assets/colab-badge.svg\" alt=\"Open In Colab\"/></a>"
      ]
    },
    {
      "cell_type": "markdown",
      "metadata": {
        "id": "uWFzHXCCzPZl"
      },
      "source": [
        "# **Questão 2 - Atividade de Planejamento de experimentos (S9)**\n",
        "\n",
        "**Nome:** Filipe da Silva Oliveira\n",
        "\n",
        "**Professora:** Raquel Cabral\n",
        "\n",
        "**Curso:** Ciência da Computação\n",
        "\n",
        "**Disciplina:** Planejamento de Experimentos\n",
        "\n",
        "**Período:** 2020.1\n"
      ]
    },
    {
      "cell_type": "code",
      "metadata": {
        "id": "6p9eNtNmLz63"
      },
      "source": [
        "#Importando bibliotecas para conseguir executar as tarefas da questões.\n",
        "import matplotlib.pyplot as plt #plotagem de gráficos\n",
        "from scipy import stats #biblioteca que possue algumas funções de estatística\n",
        "import numpy as np #algumas funções matemáticas\n",
        "import pandas as pd #manipulação de dados\n",
        "from sklearn.linear_model import LinearRegression #um biblioteca de aprendizado de máquina, que trabalha com regressão linear\n",
        "import statsmodels.api as sm #trabalha com geração de modelos"
      ],
      "execution_count": null,
      "outputs": []
    },
    {
      "cell_type": "markdown",
      "metadata": {
        "id": "f4fftLZIOTbS"
      },
      "source": [
        "# **Questão 2:**"
      ]
    },
    {
      "cell_type": "markdown",
      "metadata": {
        "id": "DkOn106iOXWd"
      },
      "source": [
        "a) Faça os testes visuais para verificar se a regressão é adequada a esses dados."
      ]
    },
    {
      "cell_type": "code",
      "metadata": {
        "id": "xLaJLaWIJzwC"
      },
      "source": [
        "tamanho = [128, 256, 384, 512, 640, 768, 896, 1024]\n",
        "\n",
        "observacao1 = [386, 850, 1544, 3035, 6650, 13887, 28059, 50916]\n",
        "observacao2 = [375, 805, 1644, 3123, 6839, 14567, 27439, 52129]\n",
        "observacao3 = [393, 824, 1553, 3235, 6768, 13456, 27659, 51360]"
      ],
      "execution_count": null,
      "outputs": []
    },
    {
      "cell_type": "code",
      "metadata": {
        "colab": {
          "base_uri": "https://localhost:8080/",
          "height": 279
        },
        "id": "hEtUBd-UQ-Aq",
        "outputId": "399bf880-1bb0-4822-9b2a-87e9ca4f1c91"
      },
      "source": [
        "plt.scatter(tamanho, observacao1)\n",
        "plt.xlabel(\"Tamanho do registro\")\n",
        "plt.ylabel(\"Observação 1\")\n",
        "plt.show()"
      ],
      "execution_count": null,
      "outputs": [
        {
          "output_type": "display_data",
          "data": {
            "image/png": "[encoded data removed]",
            "text/plain": [
              "<Figure size 432x288 with 1 Axes>"
            ]
          },
          "metadata": {
            "tags": [],
            "needs_background": "light"
          }
        }
      ]
    },
    {
      "cell_type": "code",
      "metadata": {
        "colab": {
          "base_uri": "https://localhost:8080/",
          "height": 279
        },
        "id": "YZYOpK-FRXSD",
        "outputId": "2426de71-e7c9-4107-ba26-2ce10e7345c6"
      },
      "source": [
        "plt.scatter(tamanho, observacao2)\n",
        "plt.xlabel(\"Tamanho do registro\")\n",
        "plt.ylabel(\"Observação 2\")\n",
        "plt.show()"
      ],
      "execution_count": null,
      "outputs": [
        {
          "output_type": "display_data",
          "data": {
            "image/png": "[encoded data removed]",
            "text/plain": [
              "<Figure size 432x288 with 1 Axes>"
            ]
          },
          "metadata": {
            "tags": [],
            "needs_background": "light"
          }
        }
      ]
    },
    {
      "cell_type": "code",
      "metadata": {
        "colab": {
          "base_uri": "https://localhost:8080/",
          "height": 279
        },
        "id": "lR1554uGRaww",
        "outputId": "2e40ab9c-0c9b-4e05-cff0-e38f220efa4e"
      },
      "source": [
        "plt.scatter(tamanho, observacao3)\n",
        "plt.xlabel(\"Tamanho do registro\")\n",
        "plt.ylabel(\"Observação 3\")\n",
        "plt.show()"
      ],
      "execution_count": null,
      "outputs": [
        {
          "output_type": "display_data",
          "data": {
            "image/png": "[encoded data removed]",
            "text/plain": [
              "<Figure size 432x288 with 1 Axes>"
            ]
          },
          "metadata": {
            "tags": [],
            "needs_background": "light"
          }
        }
      ]
    },
    {
      "cell_type": "markdown",
      "metadata": {
        "id": "qkBzUk-fR42q"
      },
      "source": [
        "R: Observando os gráficos é possível identificar que os valores aparentam não estae relacionados, então a regressão não seria adequada para tais dados.  "
      ]
    },
    {
      "cell_type": "markdown",
      "metadata": {
        "id": "Zv94RVB-TcI6"
      },
      "source": [
        "b) Ajuste um modelo de regressão linear a esses dados."
      ]
    },
    {
      "cell_type": "code",
      "metadata": {
        "colab": {
          "base_uri": "https://localhost:8080/"
        },
        "id": "OwVyWcyTRj8I",
        "outputId": "001e986d-53b8-45ee-d6b6-8b790311bb25"
      },
      "source": [
        "b1, b0, r_value, p_value, std_err =  stats.linregress(tamanho, observacao2)\n",
        "\n",
        "\n",
        "b1, b0 "
      ],
      "execution_count": null,
      "outputs": [
        {
          "output_type": "execute_result",
          "data": {
            "text/plain": [
              "(50.030970982142854, -15452.714285714283)"
            ]
          },
          "metadata": {
            "tags": []
          },
          "execution_count": 40
        }
      ]
    },
    {
      "cell_type": "markdown",
      "metadata": {
        "id": "5DRxA1oiVqjW"
      },
      "source": [
        "O modelo ajustado para o tamanho e a segunda observação seria: yestimado = -15452.714285714283 + 50.030970982142854*tamanho"
      ]
    },
    {
      "cell_type": "markdown",
      "metadata": {
        "id": "g0PPMR2Yb5cj"
      },
      "source": [
        "c) Qual a porcentagem da variação é explicada pela regressão? Você está satisfeito com seu modelo? Se não, qual seria o seu próximo passo. "
      ]
    },
    {
      "cell_type": "code",
      "metadata": {
        "id": "NpFREQMWTtYE"
      },
      "source": [
        "# variável preditora\n",
        "X = np.array(tamanho)\n",
        "# variável alvo\n",
        "y = np.array(observacao2)"
      ],
      "execution_count": null,
      "outputs": []
    },
    {
      "cell_type": "code",
      "metadata": {
        "colab": {
          "base_uri": "https://localhost:8080/",
          "height": 487
        },
        "id": "3jzUTPUNa83M",
        "outputId": "7904492d-6602-4c0d-d8e2-c95db7044af9"
      },
      "source": [
        "# é necessário adicionar uma constante a matriz X\n",
        "x_c = sm.add_constant(X)\n",
        "# OLS vem de Ordinary Least Squares e o método fit irá treinar o modelo\n",
        "model = sm.OLS(y, x_c)\n",
        "results = model.fit()\n",
        "# mostrando as estatísticas do modelo\n",
        "results.summary()"
      ],
      "execution_count": null,
      "outputs": [
        {
          "output_type": "stream",
          "text": [
            "/usr/local/lib/python3.7/dist-packages/scipy/stats/stats.py:1535: UserWarning: kurtosistest only valid for n>=20 ... continuing anyway, n=8\n",
            "  \"anyway, n=%i\" % int(n))\n"
          ],
          "name": "stderr"
        },
        {
          "output_type": "execute_result",
          "data": {
            "text/html": [
              "<table class=\"simpletable\">\n",
              "<caption>OLS Regression Results</caption>\n",
              "<tr>\n",
              "  <th>Dep. Variable:</th>            <td>y</td>        <th>  R-squared:         </th> <td>   0.745</td>\n",
              "</tr>\n",
              "<tr>\n",
              "  <th>Model:</th>                   <td>OLS</td>       <th>  Adj. R-squared:    </th> <td>   0.702</td>\n",
              "</tr>\n",
              "<tr>\n",
              "  <th>Method:</th>             <td>Least Squares</td>  <th>  F-statistic:       </th> <td>   17.48</td>\n",
              "</tr>\n",
              "<tr>\n",
              "  <th>Date:</th>             <td>Thu, 29 Apr 2021</td> <th>  Prob (F-statistic):</th>  <td>0.00580</td>\n",
              "</tr>\n",
              "<tr>\n",
              "  <th>Time:</th>                 <td>18:10:22</td>     <th>  Log-Likelihood:    </th> <td> -83.824</td>\n",
              "</tr>\n",
              "<tr>\n",
              "  <th>No. Observations:</th>      <td>     8</td>      <th>  AIC:               </th> <td>   171.6</td>\n",
              "</tr>\n",
              "<tr>\n",
              "  <th>Df Residuals:</th>          <td>     6</td>      <th>  BIC:               </th> <td>   171.8</td>\n",
              "</tr>\n",
              "<tr>\n",
              "  <th>Df Model:</th>              <td>     1</td>      <th>                     </th>     <td> </td>   \n",
              "</tr>\n",
              "<tr>\n",
              "  <th>Covariance Type:</th>      <td>nonrobust</td>    <th>                     </th>     <td> </td>   \n",
              "</tr>\n",
              "</table>\n",
              "<table class=\"simpletable\">\n",
              "<tr>\n",
              "    <td></td>       <th>coef</th>     <th>std err</th>      <th>t</th>      <th>P>|t|</th>  <th>[0.025</th>    <th>0.975]</th>  \n",
              "</tr>\n",
              "<tr>\n",
              "  <th>const</th> <td>-1.545e+04</td> <td> 7733.806</td> <td>   -1.998</td> <td> 0.093</td> <td>-3.44e+04</td> <td> 3471.228</td>\n",
              "</tr>\n",
              "<tr>\n",
              "  <th>x1</th>    <td>   50.0310</td> <td>   11.965</td> <td>    4.181</td> <td> 0.006</td> <td>   20.754</td> <td>   79.308</td>\n",
              "</tr>\n",
              "</table>\n",
              "<table class=\"simpletable\">\n",
              "<tr>\n",
              "  <th>Omnibus:</th>       <td> 1.234</td> <th>  Durbin-Watson:     </th> <td>   0.805</td>\n",
              "</tr>\n",
              "<tr>\n",
              "  <th>Prob(Omnibus):</th> <td> 0.540</td> <th>  Jarque-Bera (JB):  </th> <td>   0.801</td>\n",
              "</tr>\n",
              "<tr>\n",
              "  <th>Skew:</th>          <td> 0.663</td> <th>  Prob(JB):          </th> <td>   0.670</td>\n",
              "</tr>\n",
              "<tr>\n",
              "  <th>Kurtosis:</th>      <td> 2.196</td> <th>  Cond. No.          </th> <td>1.42e+03</td>\n",
              "</tr>\n",
              "</table><br/><br/>Warnings:<br/>[1] Standard Errors assume that the covariance matrix of the errors is correctly specified.<br/>[2] The condition number is large, 1.42e+03. This might indicate that there are<br/>strong multicollinearity or other numerical problems."
            ],
            "text/plain": [
              "<class 'statsmodels.iolib.summary.Summary'>\n",
              "\"\"\"\n",
              "                            OLS Regression Results                            \n",
              "==============================================================================\n",
              "Dep. Variable:                      y   R-squared:                       0.745\n",
              "Model:                            OLS   Adj. R-squared:                  0.702\n",
              "Method:                 Least Squares   F-statistic:                     17.48\n",
              "Date:                Thu, 29 Apr 2021   Prob (F-statistic):            0.00580\n",
              "Time:                        18:10:22   Log-Likelihood:                -83.824\n",
              "No. Observations:                   8   AIC:                             171.6\n",
              "Df Residuals:                       6   BIC:                             171.8\n",
              "Df Model:                           1                                         \n",
              "Covariance Type:            nonrobust                                         \n",
              "==============================================================================\n",
              "                 coef    std err          t      P>|t|      [0.025      0.975]\n",
              "------------------------------------------------------------------------------\n",
              "const      -1.545e+04   7733.806     -1.998      0.093   -3.44e+04    3471.228\n",
              "x1            50.0310     11.965      4.181      0.006      20.754      79.308\n",
              "==============================================================================\n",
              "Omnibus:                        1.234   Durbin-Watson:                   0.805\n",
              "Prob(Omnibus):                  0.540   Jarque-Bera (JB):                0.801\n",
              "Skew:                           0.663   Prob(JB):                        0.670\n",
              "Kurtosis:                       2.196   Cond. No.                     1.42e+03\n",
              "==============================================================================\n",
              "\n",
              "Warnings:\n",
              "[1] Standard Errors assume that the covariance matrix of the errors is correctly specified.\n",
              "[2] The condition number is large, 1.42e+03. This might indicate that there are\n",
              "strong multicollinearity or other numerical problems.\n",
              "\"\"\""
            ]
          },
          "metadata": {
            "tags": []
          },
          "execution_count": 42
        }
      ]
    },
    {
      "cell_type": "markdown",
      "metadata": {
        "id": "Om71_TutdA4q"
      },
      "source": [
        "Qual a porcentagem da variação é explicada pela regressão?\n"
      ]
    },
    {
      "cell_type": "markdown",
      "metadata": {
        "id": "aT4ptEoLdJUl"
      },
      "source": [
        "Observando a tabela acima, temos que o valor da porcentagem de variação é dado por 0.74, ou seja 74%. #R-squared"
      ]
    },
    {
      "cell_type": "code",
      "metadata": {
        "colab": {
          "base_uri": "https://localhost:8080/",
          "height": 279
        },
        "id": "eq43j2SpcHqc",
        "outputId": "0e4838bd-d015-44c1-b288-f893a41a30d9"
      },
      "source": [
        "linha = [b1*i + b0 for i in range(max(tamanho))]\n",
        "\n",
        "plt.scatter(tamanho, observacao2)\n",
        "plt.plot(linha, 'r')\n",
        "plt.xlabel(\"Tamanho do registro\")\n",
        "plt.ylabel(\"Observação 2\")\n",
        "plt.show()"
      ],
      "execution_count": null,
      "outputs": [
        {
          "output_type": "display_data",
          "data": {
            "image/png": "[encoded data removed]",
            "text/plain": [
              "<Figure size 432x288 with 1 Axes>"
            ]
          },
          "metadata": {
            "tags": [],
            "needs_background": "light"
          }
        }
      ]
    },
    {
      "cell_type": "markdown",
      "metadata": {
        "id": "lDtfrkjUdhjK"
      },
      "source": [
        "Você está satisfeito com seu modelo?"
      ]
    },
    {
      "cell_type": "markdown",
      "metadata": {
        "id": "BbUzHeZydqvI"
      },
      "source": [
        "Observando a imagem acima, que representa o gráfico da linha de regressão (obtida com os parâmetros do modelo) e o scartter dos dados, podemos ver que tal modelo não seria o ideal para representar os dados. Então, acredito que uma das alternativas seria ou melhorar os dados para conseguir trabalhar com a regressão linear ou utilizar outro tipo de regressão que não fosse linear. "
      ]
    },
    {
      "cell_type": "markdown",
      "metadata": {
        "id": "ANoiR7oJLA92"
      },
      "source": [
        "d) Quais parâmetros são significativos, com uma confiança de 90%?"
      ]
    },
    {
      "cell_type": "code",
      "metadata": {
        "colab": {
          "base_uri": "https://localhost:8080/"
        },
        "id": "bsBm5WUWeJeV",
        "outputId": "b6a7ffc2-fc9f-4401-b4c4-d7390c37d985"
      },
      "source": [
        "\n",
        "ic_b0, ic_b1 = results.conf_int(alpha=0.1)\n",
        "ic_b0, ic_b1"
      ],
      "execution_count": null,
      "outputs": [
        {
          "output_type": "execute_result",
          "data": {
            "text/plain": [
              "(array([-30480.89387002,   -424.53470141]), array([26.78079115, 73.28115081]))"
            ]
          },
          "metadata": {
            "tags": []
          },
          "execution_count": 44
        }
      ]
    },
    {
      "cell_type": "markdown",
      "metadata": {
        "id": "vQbEDTmvaCj0"
      },
      "source": [
        "Os parametros significativo para 90% são: \n",
        "\n",
        "b1: (26.78079115, 73.28115081);\n",
        "b0: (-30480.89387002,   -424.53470141)"
      ]
    },
    {
      "cell_type": "markdown",
      "metadata": {
        "id": "RrVeVkNxagLO"
      },
      "source": [
        "e) Qual o tempo esperado para criptografar um registro de 2ˆ20kbits? Quais limites você colocaria para esta estimativa se você aceita um erro máximo de 10% para uma única medida futura? "
      ]
    },
    {
      "cell_type": "code",
      "metadata": {
        "colab": {
          "base_uri": "https://localhost:8080/"
        },
        "id": "rNVn1tzCaaH5",
        "outputId": "929048fc-484c-464d-d9aa-cf7924da2108"
      },
      "source": [
        "t = 131072 #convertendo 2^20 kbites para kbytes\n",
        "yEstimado = -15452.714285714283 + 50.030970982142854*t\n",
        "\n",
        "yEstimado #Valor esperado para 2^29kibts"
      ],
      "execution_count": null,
      "outputs": [
        {
          "output_type": "execute_result",
          "data": {
            "text/plain": [
              "6542206.714285714"
            ]
          },
          "metadata": {
            "tags": []
          },
          "execution_count": 45
        }
      ]
    },
    {
      "cell_type": "markdown",
      "metadata": {
        "id": "SrgC7aJOmymG"
      },
      "source": [
        "Os limites seriam baseados nos intervalos de confiança do item anterior."
      ]
    }
  ]
}